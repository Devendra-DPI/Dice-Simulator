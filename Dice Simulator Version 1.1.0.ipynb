{
 "cells": [
  {
   "cell_type": "code",
   "execution_count": null,
   "metadata": {},
   "outputs": [],
   "source": [
    "import random\n",
    "while True:\n",
    "    Dice=random.randint(1,6)\n",
    "    RollDice=input(\"To roll Dice Press R \")\n",
    "    if RollDice.lower()=='r':\n",
    "        print(Dice)\n",
    "    elif RollDice.lower()=='q':\n",
    "        break\n",
    "    else:\n",
    "        print(\"Press R to roll & Q to Quit\")"
   ]
  }
 ],
 "metadata": {
  "kernelspec": {
   "display_name": "Python 3",
   "language": "python",
   "name": "python3"
  },
  "language_info": {
   "codemirror_mode": {
    "name": "ipython",
    "version": 3
   },
   "file_extension": ".py",
   "mimetype": "text/x-python",
   "name": "python",
   "nbconvert_exporter": "python",
   "pygments_lexer": "ipython3",
   "version": "3.8.3"
  }
 },
 "nbformat": 4,
 "nbformat_minor": 4
}
