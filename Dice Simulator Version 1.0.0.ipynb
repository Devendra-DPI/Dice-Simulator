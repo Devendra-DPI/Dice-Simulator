{
 "cells": [
  {
   "cell_type": "markdown",
   "metadata": {},
   "source": [
    "## Dice Simulator V 1.0.0"
   ]
  },
  {
   "cell_type": "code",
   "execution_count": 1,
   "metadata": {},
   "outputs": [
    {
     "name": "stdout",
     "output_type": "stream",
     "text": [
      "4\n",
      "Want to roll again (Y/N)?y\n",
      "4\n",
      "Want to roll again (Y/N)?y\n",
      "6\n",
      "Want to roll again (Y/N)?y\n",
      "2\n",
      "Want to roll again (Y/N)?y\n",
      "6\n",
      "Want to roll again (Y/N)?y\n",
      "2\n",
      "Want to roll again (Y/N)?y\n",
      "6\n",
      "Want to roll again (Y/N)?n\n"
     ]
    }
   ],
   "source": [
    "import random\n",
    "\n",
    "while True:\n",
    "    print(random.randint(1,6))\n",
    "    again = input(\"Want to roll again (Y/N)?\")\n",
    "    if again.lower() == \"y\":\n",
    "        continue\n",
    "    else:\n",
    "        break"
   ]
  }
 ],
 "metadata": {
  "kernelspec": {
   "display_name": "Python 3",
   "language": "python",
   "name": "python3"
  },
  "language_info": {
   "codemirror_mode": {
    "name": "ipython",
    "version": 3
   },
   "file_extension": ".py",
   "mimetype": "text/x-python",
   "name": "python",
   "nbconvert_exporter": "python",
   "pygments_lexer": "ipython3",
   "version": "3.8.3"
  }
 },
 "nbformat": 4,
 "nbformat_minor": 4
}
